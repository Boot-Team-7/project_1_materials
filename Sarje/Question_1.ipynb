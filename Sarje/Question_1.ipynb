{
 "cells": [
  {
   "cell_type": "markdown",
   "id": "66d39e4a",
   "metadata": {},
   "source": [
    "# Question 1"
   ]
  },
  {
   "cell_type": "code",
   "execution_count": 1,
   "id": "64072607",
   "metadata": {},
   "outputs": [],
   "source": [
    "import pandas as pd\n",
    "import matplotlib.pyplot as plt\n",
    "import numpy as np\n",
    "\n",
    "plt.style.use(\"seaborn\")"
   ]
  },
  {
   "cell_type": "markdown",
   "id": "fc9e880f",
   "metadata": {},
   "source": [
    "# Prepare Data"
   ]
  },
  {
   "cell_type": "code",
   "execution_count": 2,
   "id": "a00d95ae",
   "metadata": {},
   "outputs": [
    {
     "data": {
      "text/html": [
       "<div>\n",
       "<style scoped>\n",
       "    .dataframe tbody tr th:only-of-type {\n",
       "        vertical-align: middle;\n",
       "    }\n",
       "\n",
       "    .dataframe tbody tr th {\n",
       "        vertical-align: top;\n",
       "    }\n",
       "\n",
       "    .dataframe thead th {\n",
       "        text-align: right;\n",
       "    }\n",
       "</style>\n",
       "<table border=\"1\" class=\"dataframe\">\n",
       "  <thead>\n",
       "    <tr style=\"text-align: right;\">\n",
       "      <th></th>\n",
       "      <th>State</th>\n",
       "      <th>Year</th>\n",
       "      <th>Studio</th>\n",
       "      <th>1 Bedroom</th>\n",
       "      <th>2 Bedroom</th>\n",
       "      <th>3 Bedroom</th>\n",
       "      <th>4 Bedroom</th>\n",
       "    </tr>\n",
       "  </thead>\n",
       "  <tbody>\n",
       "    <tr>\n",
       "      <th>0</th>\n",
       "      <td>AK</td>\n",
       "      <td>2019</td>\n",
       "      <td>930.55</td>\n",
       "      <td>1052.83</td>\n",
       "      <td>1314.41</td>\n",
       "      <td>1747.76</td>\n",
       "      <td>2005.48</td>\n",
       "    </tr>\n",
       "    <tr>\n",
       "      <th>1</th>\n",
       "      <td>AK</td>\n",
       "      <td>2020</td>\n",
       "      <td>969.03</td>\n",
       "      <td>1097.48</td>\n",
       "      <td>1370.17</td>\n",
       "      <td>1821.17</td>\n",
       "      <td>2065.79</td>\n",
       "    </tr>\n",
       "    <tr>\n",
       "      <th>2</th>\n",
       "      <td>AK</td>\n",
       "      <td>2021</td>\n",
       "      <td>908.03</td>\n",
       "      <td>1012.10</td>\n",
       "      <td>1281.31</td>\n",
       "      <td>1684.93</td>\n",
       "      <td>1937.86</td>\n",
       "    </tr>\n",
       "  </tbody>\n",
       "</table>\n",
       "</div>"
      ],
      "text/plain": [
       "  State  Year  Studio  1 Bedroom  2 Bedroom  3 Bedroom  4 Bedroom\n",
       "0    AK  2019  930.55    1052.83    1314.41    1747.76    2005.48\n",
       "1    AK  2020  969.03    1097.48    1370.17    1821.17    2065.79\n",
       "2    AK  2021  908.03    1012.10    1281.31    1684.93    1937.86"
      ]
     },
     "execution_count": 2,
     "metadata": {},
     "output_type": "execute_result"
    }
   ],
   "source": [
    "# load rent data\n",
    "rent = pd.read_csv(\"rent.csv\")\n",
    "\n",
    "# means grouped by state and year\n",
    "state_sy = rent.groupby([\"state initials\", \"year\"])[\"state initials\"].first().to_list()\n",
    "year_sy = rent.groupby([\"state initials\", \"year\"])[\"year\"].first().to_list()\n",
    "bed_0_sy = rent.groupby([\"state initials\", \"year\"]).mean()[\"rent50_0\"].to_list()\n",
    "bed_1_sy = rent.groupby([\"state initials\", \"year\"]).mean()[\"rent50_1\"].to_list()\n",
    "bed_2_sy = rent.groupby([\"state initials\", \"year\"]).mean()[\"rent50_2\"].to_list()\n",
    "bed_3_sy = rent.groupby([\"state initials\", \"year\"]).mean()[\"rent50_3\"].to_list()\n",
    "bed_4_sy = rent.groupby([\"state initials\", \"year\"]).mean()[\"rent50_4\"].to_list()\n",
    "\n",
    "rent_summary_sy = pd.DataFrame(\n",
    "    {'State': state_sy, 'Year': year_sy, 'Studio': bed_0_sy, '1 Bedroom': bed_1_sy,\n",
    "     '2 Bedroom': bed_2_sy, '3 Bedroom': bed_3_sy, '4 Bedroom': bed_4_sy}).round(2)\n",
    "\n",
    "rent_summary_sy.head(3)"
   ]
  },
  {
   "cell_type": "markdown",
   "id": "ae3c8b89",
   "metadata": {},
   "source": [
    "# Studio Apartments"
   ]
  },
  {
   "cell_type": "code",
   "execution_count": 3,
   "id": "574a9979",
   "metadata": {},
   "outputs": [],
   "source": [
    "# studio data 2021\n",
    "studio21DF = pd.DataFrame({'State': rent_summary_sy[rent_summary_sy[\"Year\"] == 2021][\"State\"], \n",
    "                         'Studio': rent_summary_sy[rent_summary_sy[\"Year\"] == 2021][\"Studio\"]})\n",
    "# studio data 2020\n",
    "studio20DF = pd.DataFrame({'State': rent_summary_sy[rent_summary_sy[\"Year\"] == 2020][\"State\"], \n",
    "                         'Studio': rent_summary_sy[rent_summary_sy[\"Year\"] == 2020][\"Studio\"]})  \n",
    "# studio data 2019\n",
    "studio19DF = pd.DataFrame({'State': rent_summary_sy[rent_summary_sy[\"Year\"] == 2019][\"State\"], \n",
    "                         'Studio': rent_summary_sy[rent_summary_sy[\"Year\"] == 2019][\"Studio\"]})  \n",
    "# studio data merge\n",
    "studioDF = pd.merge(studio21DF, studio20DF, how=\"inner\", on=[\"State\"]).merge(studio19DF, on=[\"State\"])\n",
    "studioDF.columns = ['State','Studio21','Studio20','Studio19']\n",
    "\n",
    "# studio data calculations\n",
    "studioDF[\"'21 diff %\"] = 100 * (studioDF[\"Studio21\"] - studioDF[\"Studio20\"]) / studioDF[\"Studio21\"]\n",
    "studioDF[\"'20 diff %\"] = 100 * (studioDF[\"Studio20\"] - studioDF[\"Studio19\"]) / studioDF[\"Studio20\"]"
   ]
  },
  {
   "cell_type": "code",
   "execution_count": 4,
   "id": "f6853f5d",
   "metadata": {},
   "outputs": [
    {
     "data": {
      "text/html": [
       "<div>\n",
       "<style scoped>\n",
       "    .dataframe tbody tr th:only-of-type {\n",
       "        vertical-align: middle;\n",
       "    }\n",
       "\n",
       "    .dataframe tbody tr th {\n",
       "        vertical-align: top;\n",
       "    }\n",
       "\n",
       "    .dataframe thead th {\n",
       "        text-align: right;\n",
       "    }\n",
       "</style>\n",
       "<table border=\"1\" class=\"dataframe\">\n",
       "  <thead>\n",
       "    <tr style=\"text-align: right;\">\n",
       "      <th></th>\n",
       "      <th>State</th>\n",
       "      <th>Studio21</th>\n",
       "      <th>Studio20</th>\n",
       "      <th>Studio19</th>\n",
       "      <th>'21 diff %</th>\n",
       "      <th>'20 diff %</th>\n",
       "    </tr>\n",
       "  </thead>\n",
       "  <tbody>\n",
       "    <tr>\n",
       "      <th>0</th>\n",
       "      <td>AK</td>\n",
       "      <td>908.03</td>\n",
       "      <td>969.03</td>\n",
       "      <td>930.55</td>\n",
       "      <td>-6.717840</td>\n",
       "      <td>3.970981</td>\n",
       "    </tr>\n",
       "    <tr>\n",
       "      <th>1</th>\n",
       "      <td>AL</td>\n",
       "      <td>579.79</td>\n",
       "      <td>563.24</td>\n",
       "      <td>559.96</td>\n",
       "      <td>2.854482</td>\n",
       "      <td>0.582345</td>\n",
       "    </tr>\n",
       "    <tr>\n",
       "      <th>2</th>\n",
       "      <td>AR</td>\n",
       "      <td>535.00</td>\n",
       "      <td>509.15</td>\n",
       "      <td>517.76</td>\n",
       "      <td>4.831776</td>\n",
       "      <td>-1.691054</td>\n",
       "    </tr>\n",
       "    <tr>\n",
       "      <th>3</th>\n",
       "      <td>AS</td>\n",
       "      <td>635.00</td>\n",
       "      <td>608.00</td>\n",
       "      <td>543.00</td>\n",
       "      <td>4.251969</td>\n",
       "      <td>10.690789</td>\n",
       "    </tr>\n",
       "    <tr>\n",
       "      <th>4</th>\n",
       "      <td>AZ</td>\n",
       "      <td>746.53</td>\n",
       "      <td>701.40</td>\n",
       "      <td>678.73</td>\n",
       "      <td>6.045303</td>\n",
       "      <td>3.232107</td>\n",
       "    </tr>\n",
       "  </tbody>\n",
       "</table>\n",
       "</div>"
      ],
      "text/plain": [
       "  State  Studio21  Studio20  Studio19  '21 diff %  '20 diff %\n",
       "0    AK    908.03    969.03    930.55   -6.717840    3.970981\n",
       "1    AL    579.79    563.24    559.96    2.854482    0.582345\n",
       "2    AR    535.00    509.15    517.76    4.831776   -1.691054\n",
       "3    AS    635.00    608.00    543.00    4.251969   10.690789\n",
       "4    AZ    746.53    701.40    678.73    6.045303    3.232107"
      ]
     },
     "execution_count": 4,
     "metadata": {},
     "output_type": "execute_result"
    }
   ],
   "source": [
    "studioDF.head()"
   ]
  },
  {
   "cell_type": "code",
   "execution_count": 5,
   "id": "66eff648",
   "metadata": {},
   "outputs": [
    {
     "data": {
      "image/png": "[encoded data removed]",
      "text/plain": [
       "<Figure size 1080x288 with 1 Axes>"
      ]
     },
     "metadata": {},
     "output_type": "display_data"
    }
   ],
   "source": [
    "# prepare chart\n",
    "states = studioDF[\"State\"]\n",
    "percentage = studioDF[\"'21 diff %\"]\n",
    "\n",
    "plt.figure(figsize=(15, 4))\n",
    "plt.xticks(rotation = 90)\n",
    "plt.bar(states, percentage)\n",
    "plt.title('Studio Apartment Rent Change % From 2020 to 2021 by State')\n",
    "plt.ylabel(\"Percentage Change\")\n",
    "plt.show()"
   ]
  },
  {
   "cell_type": "code",
   "execution_count": null,
   "id": "11c6eb7b",
   "metadata": {},
   "outputs": [],
   "source": []
  },
  {
   "cell_type": "markdown",
   "id": "1d2a012d",
   "metadata": {},
   "source": [
    "# 1 Bedroom Apartments"
   ]
  },
  {
   "cell_type": "code",
   "execution_count": 6,
   "id": "ff6c24d2",
   "metadata": {},
   "outputs": [],
   "source": [
    "# b1 data 2021\n",
    "b121DF = pd.DataFrame({'State': rent_summary_sy[rent_summary_sy[\"Year\"] == 2021][\"State\"], \n",
    "                         '1 Bedroom': rent_summary_sy[rent_summary_sy[\"Year\"] == 2021][\"1 Bedroom\"]})\n",
    "# b1 data 2020\n",
    "b120DF = pd.DataFrame({'State': rent_summary_sy[rent_summary_sy[\"Year\"] == 2020][\"State\"], \n",
    "                         '1 Bedroom': rent_summary_sy[rent_summary_sy[\"Year\"] == 2020][\"1 Bedroom\"]})  \n",
    "# b1 data 2019\n",
    "b119DF = pd.DataFrame({'State': rent_summary_sy[rent_summary_sy[\"Year\"] == 2019][\"State\"], \n",
    "                         '1 Bedroom': rent_summary_sy[rent_summary_sy[\"Year\"] == 2019][\"1 Bedroom\"]})  \n",
    "# b1 data merge\n",
    "b1DF = pd.merge(b121DF, b120DF, how=\"inner\", on=[\"State\"]).merge(b119DF, on=[\"State\"])\n",
    "b1DF.columns = ['State',\"1 Bedroom '21\",\"1 Bedroom '20\",\"1 Bedroom '19\"]\n",
    "\n",
    "# b1 data calculations\n",
    "b1DF[\"'21 diff %\"] = 100 * (b1DF[\"1 Bedroom '21\"] - b1DF[\"1 Bedroom '20\"]) / b1DF[\"1 Bedroom '21\"]\n",
    "b1DF[\"'20 diff %\"] = 100 * (b1DF[\"1 Bedroom '20\"] - b1DF[\"1 Bedroom '19\"]) / b1DF[\"1 Bedroom '20\"]"
   ]
  },
  {
   "cell_type": "code",
   "execution_count": 7,
   "id": "8c5ca29f",
   "metadata": {},
   "outputs": [
    {
     "data": {
      "text/html": [
       "<div>\n",
       "<style scoped>\n",
       "    .dataframe tbody tr th:only-of-type {\n",
       "        vertical-align: middle;\n",
       "    }\n",
       "\n",
       "    .dataframe tbody tr th {\n",
       "        vertical-align: top;\n",
       "    }\n",
       "\n",
       "    .dataframe thead th {\n",
       "        text-align: right;\n",
       "    }\n",
       "</style>\n",
       "<table border=\"1\" class=\"dataframe\">\n",
       "  <thead>\n",
       "    <tr style=\"text-align: right;\">\n",
       "      <th></th>\n",
       "      <th>State</th>\n",
       "      <th>1 Bedroom '21</th>\n",
       "      <th>1 Bedroom '20</th>\n",
       "      <th>1 Bedroom '19</th>\n",
       "      <th>'21 diff %</th>\n",
       "      <th>'20 diff %</th>\n",
       "    </tr>\n",
       "  </thead>\n",
       "  <tbody>\n",
       "    <tr>\n",
       "      <th>0</th>\n",
       "      <td>AK</td>\n",
       "      <td>1012.10</td>\n",
       "      <td>1097.48</td>\n",
       "      <td>1052.83</td>\n",
       "      <td>-8.435925</td>\n",
       "      <td>4.068411</td>\n",
       "    </tr>\n",
       "    <tr>\n",
       "      <th>1</th>\n",
       "      <td>AL</td>\n",
       "      <td>626.04</td>\n",
       "      <td>607.66</td>\n",
       "      <td>601.84</td>\n",
       "      <td>2.935915</td>\n",
       "      <td>0.957772</td>\n",
       "    </tr>\n",
       "    <tr>\n",
       "      <th>2</th>\n",
       "      <td>AR</td>\n",
       "      <td>574.33</td>\n",
       "      <td>551.45</td>\n",
       "      <td>557.65</td>\n",
       "      <td>3.983772</td>\n",
       "      <td>-1.124309</td>\n",
       "    </tr>\n",
       "    <tr>\n",
       "      <th>3</th>\n",
       "      <td>AS</td>\n",
       "      <td>640.00</td>\n",
       "      <td>612.00</td>\n",
       "      <td>547.00</td>\n",
       "      <td>4.375000</td>\n",
       "      <td>10.620915</td>\n",
       "    </tr>\n",
       "    <tr>\n",
       "      <th>4</th>\n",
       "      <td>AZ</td>\n",
       "      <td>821.60</td>\n",
       "      <td>777.13</td>\n",
       "      <td>732.87</td>\n",
       "      <td>5.412610</td>\n",
       "      <td>5.695315</td>\n",
       "    </tr>\n",
       "  </tbody>\n",
       "</table>\n",
       "</div>"
      ],
      "text/plain": [
       "  State  1 Bedroom '21  1 Bedroom '20  1 Bedroom '19  '21 diff %  '20 diff %\n",
       "0    AK        1012.10        1097.48        1052.83   -8.435925    4.068411\n",
       "1    AL         626.04         607.66         601.84    2.935915    0.957772\n",
       "2    AR         574.33         551.45         557.65    3.983772   -1.124309\n",
       "3    AS         640.00         612.00         547.00    4.375000   10.620915\n",
       "4    AZ         821.60         777.13         732.87    5.412610    5.695315"
      ]
     },
     "execution_count": 7,
     "metadata": {},
     "output_type": "execute_result"
    }
   ],
   "source": [
    "b1DF.head()"
   ]
  },
  {
   "cell_type": "code",
   "execution_count": 8,
   "id": "f0dc7ccb",
   "metadata": {},
   "outputs": [
    {
     "data": {
      "image/png": "[encoded data removed]",
      "text/plain": [
       "<Figure size 1080x288 with 1 Axes>"
      ]
     },
     "metadata": {},
     "output_type": "display_data"
    }
   ],
   "source": [
    "# prepare chart\n",
    "states = b1DF[\"State\"]\n",
    "percentage = b1DF[\"'21 diff %\"]\n",
    "\n",
    "plt.figure(figsize=(15, 4))\n",
    "plt.xticks(rotation = 90)\n",
    "plt.bar(states, percentage)\n",
    "plt.title('1 Bedroom Apartment Rent Change % From 2020 to 2021 by State')\n",
    "plt.ylabel(\"Percentage Change\")\n",
    "plt.show()"
   ]
  },
  {
   "cell_type": "code",
   "execution_count": null,
   "id": "905b0d3b",
   "metadata": {},
   "outputs": [],
   "source": []
  },
  {
   "cell_type": "markdown",
   "id": "59b600ef",
   "metadata": {},
   "source": [
    "# 2 Bedroom Apartments"
   ]
  },
  {
   "cell_type": "code",
   "execution_count": 13,
   "id": "9b538537",
   "metadata": {},
   "outputs": [],
   "source": [
    "# b2 data 2021\n",
    "b221DF = pd.DataFrame({'State': rent_summary_sy[rent_summary_sy[\"Year\"] == 2021][\"State\"], \n",
    "                         '2 Bedroom': rent_summary_sy[rent_summary_sy[\"Year\"] == 2021][\"2 Bedroom\"]})\n",
    "# b2 data 2020\n",
    "b220DF = pd.DataFrame({'State': rent_summary_sy[rent_summary_sy[\"Year\"] == 2020][\"State\"], \n",
    "                         '2 Bedroom': rent_summary_sy[rent_summary_sy[\"Year\"] == 2020][\"2 Bedroom\"]})  \n",
    "# b2 data 2019\n",
    "b219DF = pd.DataFrame({'State': rent_summary_sy[rent_summary_sy[\"Year\"] == 2019][\"State\"], \n",
    "                         '2 Bedroom': rent_summary_sy[rent_summary_sy[\"Year\"] == 2019][\"2 Bedroom\"]})  \n",
    "# b2 data merge\n",
    "b2DF = pd.merge(b221DF, b220DF, how=\"inner\", on=[\"State\"]).merge(b219DF, on=[\"State\"])\n",
    "b2DF.columns = ['State',\"2 Bedroom '21\",\"2 Bedroom '20\",\"2 Bedroom '19\"]\n",
    "\n",
    "# b2 data calculations\n",
    "b2DF[\"'21 diff %\"] = 100 * (b2DF[\"2 Bedroom '21\"] - b2DF[\"2 Bedroom '20\"]) / b2DF[\"2 Bedroom '21\"]\n",
    "b2DF[\"'20 diff %\"] = 100 * (b2DF[\"2 Bedroom '20\"] - b2DF[\"2 Bedroom '19\"]) / b2DF[\"2 Bedroom '20\"]"
   ]
  },
  {
   "cell_type": "code",
   "execution_count": 14,
   "id": "7d121381",
   "metadata": {
    "scrolled": true
   },
   "outputs": [
    {
     "data": {
      "text/html": [
       "<div>\n",
       "<style scoped>\n",
       "    .dataframe tbody tr th:only-of-type {\n",
       "        vertical-align: middle;\n",
       "    }\n",
       "\n",
       "    .dataframe tbody tr th {\n",
       "        vertical-align: top;\n",
       "    }\n",
       "\n",
       "    .dataframe thead th {\n",
       "        text-align: right;\n",
       "    }\n",
       "</style>\n",
       "<table border=\"1\" class=\"dataframe\">\n",
       "  <thead>\n",
       "    <tr style=\"text-align: right;\">\n",
       "      <th></th>\n",
       "      <th>State</th>\n",
       "      <th>2 Bedroom '21</th>\n",
       "      <th>2 Bedroom '20</th>\n",
       "      <th>2 Bedroom '19</th>\n",
       "      <th>'21 diff %</th>\n",
       "      <th>'20 diff %</th>\n",
       "    </tr>\n",
       "  </thead>\n",
       "  <tbody>\n",
       "    <tr>\n",
       "      <th>0</th>\n",
       "      <td>AK</td>\n",
       "      <td>1281.31</td>\n",
       "      <td>1370.17</td>\n",
       "      <td>1314.41</td>\n",
       "      <td>-6.935090</td>\n",
       "      <td>4.069568</td>\n",
       "    </tr>\n",
       "    <tr>\n",
       "      <th>1</th>\n",
       "      <td>AL</td>\n",
       "      <td>767.42</td>\n",
       "      <td>739.43</td>\n",
       "      <td>736.88</td>\n",
       "      <td>3.647286</td>\n",
       "      <td>0.344860</td>\n",
       "    </tr>\n",
       "    <tr>\n",
       "      <th>2</th>\n",
       "      <td>AR</td>\n",
       "      <td>723.04</td>\n",
       "      <td>695.19</td>\n",
       "      <td>709.75</td>\n",
       "      <td>3.851792</td>\n",
       "      <td>-2.094391</td>\n",
       "    </tr>\n",
       "    <tr>\n",
       "      <th>3</th>\n",
       "      <td>AS</td>\n",
       "      <td>843.00</td>\n",
       "      <td>806.00</td>\n",
       "      <td>723.00</td>\n",
       "      <td>4.389087</td>\n",
       "      <td>10.297767</td>\n",
       "    </tr>\n",
       "    <tr>\n",
       "      <th>4</th>\n",
       "      <td>AZ</td>\n",
       "      <td>1037.53</td>\n",
       "      <td>980.20</td>\n",
       "      <td>935.40</td>\n",
       "      <td>5.525623</td>\n",
       "      <td>4.570496</td>\n",
       "    </tr>\n",
       "  </tbody>\n",
       "</table>\n",
       "</div>"
      ],
      "text/plain": [
       "  State  2 Bedroom '21  2 Bedroom '20  2 Bedroom '19  '21 diff %  '20 diff %\n",
       "0    AK        1281.31        1370.17        1314.41   -6.935090    4.069568\n",
       "1    AL         767.42         739.43         736.88    3.647286    0.344860\n",
       "2    AR         723.04         695.19         709.75    3.851792   -2.094391\n",
       "3    AS         843.00         806.00         723.00    4.389087   10.297767\n",
       "4    AZ        1037.53         980.20         935.40    5.525623    4.570496"
      ]
     },
     "execution_count": 14,
     "metadata": {},
     "output_type": "execute_result"
    }
   ],
   "source": [
    "b2DF.head()"
   ]
  },
  {
   "cell_type": "code",
   "execution_count": 15,
   "id": "6ffc3038",
   "metadata": {},
   "outputs": [
    {
     "data": {
      "image/png": "[encoded data removed]",
      "text/plain": [
       "<Figure size 1080x288 with 1 Axes>"
      ]
     },
     "metadata": {},
     "output_type": "display_data"
    }
   ],
   "source": [
    "# prepare chart\n",
    "states = b2DF[\"State\"]\n",
    "percentage = b2DF[\"'21 diff %\"]\n",
    "\n",
    "plt.figure(figsize=(15, 4))\n",
    "plt.xticks(rotation = 90)\n",
    "plt.bar(states, percentage)\n",
    "plt.title('2 Bedroom Apartment Rent Change % From 2020 to 2021 by State')\n",
    "plt.ylabel(\"Percentage Change\")\n",
    "plt.show()"
   ]
  },
  {
   "cell_type": "code",
   "execution_count": null,
   "id": "6127642c",
   "metadata": {},
   "outputs": [],
   "source": []
  },
  {
   "cell_type": "markdown",
   "id": "bdacde6b",
   "metadata": {},
   "source": [
    "## 3 Bedroom Apartments"
   ]
  },
  {
   "cell_type": "code",
   "execution_count": 16,
   "id": "186bbfa7",
   "metadata": {},
   "outputs": [],
   "source": [
    "# b3 data 2021\n",
    "b321DF = pd.DataFrame({'State': rent_summary_sy[rent_summary_sy[\"Year\"] == 2021][\"State\"], \n",
    "                         '3 Bedroom': rent_summary_sy[rent_summary_sy[\"Year\"] == 2021][\"3 Bedroom\"]})\n",
    "# b3 data 2020\n",
    "b320DF = pd.DataFrame({'State': rent_summary_sy[rent_summary_sy[\"Year\"] == 2020][\"State\"], \n",
    "                         '3 Bedroom': rent_summary_sy[rent_summary_sy[\"Year\"] == 2020][\"3 Bedroom\"]})  \n",
    "# b3 data 2019\n",
    "b319DF = pd.DataFrame({'State': rent_summary_sy[rent_summary_sy[\"Year\"] == 2019][\"State\"], \n",
    "                         '3 Bedroom': rent_summary_sy[rent_summary_sy[\"Year\"] == 2019][\"3 Bedroom\"]})  \n",
    "# b3 data merge\n",
    "b3DF = pd.merge(b321DF, b320DF, how=\"inner\", on=[\"State\"]).merge(b319DF, on=[\"State\"])\n",
    "b3DF.columns = ['State',\"3 Bedroom '21\",\"3 Bedroom '20\",\"3 Bedroom '19\"]\n",
    "\n",
    "# b3 data calculations\n",
    "b3DF[\"'21 diff %\"] = 100 * (b3DF[\"3 Bedroom '21\"] - b3DF[\"3 Bedroom '20\"]) / b3DF[\"3 Bedroom '21\"]\n",
    "b3DF[\"'20 diff %\"] = 100 * (b3DF[\"3 Bedroom '20\"] - b3DF[\"3 Bedroom '19\"]) / b3DF[\"3 Bedroom '20\"]"
   ]
  },
  {
   "cell_type": "code",
   "execution_count": 17,
   "id": "93ba8fe5",
   "metadata": {
    "scrolled": true
   },
   "outputs": [
    {
     "data": {
      "text/html": [
       "<div>\n",
       "<style scoped>\n",
       "    .dataframe tbody tr th:only-of-type {\n",
       "        vertical-align: middle;\n",
       "    }\n",
       "\n",
       "    .dataframe tbody tr th {\n",
       "        vertical-align: top;\n",
       "    }\n",
       "\n",
       "    .dataframe thead th {\n",
       "        text-align: right;\n",
       "    }\n",
       "</style>\n",
       "<table border=\"1\" class=\"dataframe\">\n",
       "  <thead>\n",
       "    <tr style=\"text-align: right;\">\n",
       "      <th></th>\n",
       "      <th>State</th>\n",
       "      <th>3 Bedroom '21</th>\n",
       "      <th>3 Bedroom '20</th>\n",
       "      <th>3 Bedroom '19</th>\n",
       "      <th>'21 diff %</th>\n",
       "      <th>'20 diff %</th>\n",
       "    </tr>\n",
       "  </thead>\n",
       "  <tbody>\n",
       "    <tr>\n",
       "      <th>0</th>\n",
       "      <td>AK</td>\n",
       "      <td>1684.93</td>\n",
       "      <td>1821.17</td>\n",
       "      <td>1747.76</td>\n",
       "      <td>-8.085796</td>\n",
       "      <td>4.030925</td>\n",
       "    </tr>\n",
       "    <tr>\n",
       "      <th>1</th>\n",
       "      <td>AL</td>\n",
       "      <td>1003.73</td>\n",
       "      <td>975.01</td>\n",
       "      <td>977.49</td>\n",
       "      <td>2.861327</td>\n",
       "      <td>-0.254356</td>\n",
       "    </tr>\n",
       "    <tr>\n",
       "      <th>2</th>\n",
       "      <td>AR</td>\n",
       "      <td>954.23</td>\n",
       "      <td>919.33</td>\n",
       "      <td>938.77</td>\n",
       "      <td>3.657399</td>\n",
       "      <td>-2.114583</td>\n",
       "    </tr>\n",
       "    <tr>\n",
       "      <th>3</th>\n",
       "      <td>AS</td>\n",
       "      <td>1206.00</td>\n",
       "      <td>1163.00</td>\n",
       "      <td>1045.00</td>\n",
       "      <td>3.565506</td>\n",
       "      <td>10.146174</td>\n",
       "    </tr>\n",
       "    <tr>\n",
       "      <th>4</th>\n",
       "      <td>AZ</td>\n",
       "      <td>1433.00</td>\n",
       "      <td>1363.67</td>\n",
       "      <td>1296.73</td>\n",
       "      <td>4.838102</td>\n",
       "      <td>4.908812</td>\n",
       "    </tr>\n",
       "  </tbody>\n",
       "</table>\n",
       "</div>"
      ],
      "text/plain": [
       "  State  3 Bedroom '21  3 Bedroom '20  3 Bedroom '19  '21 diff %  '20 diff %\n",
       "0    AK        1684.93        1821.17        1747.76   -8.085796    4.030925\n",
       "1    AL        1003.73         975.01         977.49    2.861327   -0.254356\n",
       "2    AR         954.23         919.33         938.77    3.657399   -2.114583\n",
       "3    AS        1206.00        1163.00        1045.00    3.565506   10.146174\n",
       "4    AZ        1433.00        1363.67        1296.73    4.838102    4.908812"
      ]
     },
     "execution_count": 17,
     "metadata": {},
     "output_type": "execute_result"
    }
   ],
   "source": [
    "b3DF.head()"
   ]
  },
  {
   "cell_type": "code",
   "execution_count": 19,
   "id": "1446749d",
   "metadata": {
    "scrolled": true
   },
   "outputs": [
    {
     "data": {
      "image/png": "[encoded data removed]",
      "text/plain": [
       "<Figure size 1080x288 with 1 Axes>"
      ]
     },
     "metadata": {},
     "output_type": "display_data"
    }
   ],
   "source": [
    "# prepare chart\n",
    "states = b3DF[\"State\"]\n",
    "percentage = b3DF[\"'21 diff %\"]\n",
    "\n",
    "plt.figure(figsize=(15, 4))\n",
    "plt.xticks(rotation = 90)\n",
    "plt.bar(states, percentage)\n",
    "plt.title('3 Bedroom Apartment Rent Change % From 2020 to 2021 by State')\n",
    "plt.ylabel(\"Percentage Change\")\n",
    "plt.show()"
   ]
  },
  {
   "cell_type": "code",
   "execution_count": null,
   "id": "4858223c",
   "metadata": {},
   "outputs": [],
   "source": []
  },
  {
   "cell_type": "markdown",
   "id": "416c0db5",
   "metadata": {},
   "source": [
    "## 4 Bedroom Apartments"
   ]
  },
  {
   "cell_type": "code",
   "execution_count": 20,
   "id": "1b7ce400",
   "metadata": {},
   "outputs": [],
   "source": [
    "# b4 data 2021\n",
    "b421DF = pd.DataFrame({'State': rent_summary_sy[rent_summary_sy[\"Year\"] == 2021][\"State\"], \n",
    "                         '4 Bedroom': rent_summary_sy[rent_summary_sy[\"Year\"] == 2021][\"4 Bedroom\"]})\n",
    "# b4 data 2020\n",
    "b420DF = pd.DataFrame({'State': rent_summary_sy[rent_summary_sy[\"Year\"] == 2020][\"State\"], \n",
    "                         '4 Bedroom': rent_summary_sy[rent_summary_sy[\"Year\"] == 2020][\"4 Bedroom\"]})  \n",
    "# b4 data 2019\n",
    "b419DF = pd.DataFrame({'State': rent_summary_sy[rent_summary_sy[\"Year\"] == 2019][\"State\"], \n",
    "                         '4 Bedroom': rent_summary_sy[rent_summary_sy[\"Year\"] == 2019][\"4 Bedroom\"]})  \n",
    "# b4 data merge\n",
    "b4DF = pd.merge(b421DF, b420DF, how=\"inner\", on=[\"State\"]).merge(b419DF, on=[\"State\"])\n",
    "b4DF.columns = ['State',\"4 Bedroom '21\",\"4 Bedroom '20\",\"4 Bedroom '19\"]\n",
    "\n",
    "# b4 data calculations\n",
    "b4DF[\"'21 diff %\"] = 100 * (b4DF[\"4 Bedroom '21\"] - b4DF[\"4 Bedroom '20\"]) / b4DF[\"4 Bedroom '21\"]\n",
    "b4DF[\"'20 diff %\"] = 100 * (b4DF[\"4 Bedroom '20\"] - b4DF[\"4 Bedroom '19\"]) / b4DF[\"4 Bedroom '20\"]"
   ]
  },
  {
   "cell_type": "code",
   "execution_count": 21,
   "id": "e37932ca",
   "metadata": {
    "scrolled": false
   },
   "outputs": [
    {
     "data": {
      "text/html": [
       "<div>\n",
       "<style scoped>\n",
       "    .dataframe tbody tr th:only-of-type {\n",
       "        vertical-align: middle;\n",
       "    }\n",
       "\n",
       "    .dataframe tbody tr th {\n",
       "        vertical-align: top;\n",
       "    }\n",
       "\n",
       "    .dataframe thead th {\n",
       "        text-align: right;\n",
       "    }\n",
       "</style>\n",
       "<table border=\"1\" class=\"dataframe\">\n",
       "  <thead>\n",
       "    <tr style=\"text-align: right;\">\n",
       "      <th></th>\n",
       "      <th>State</th>\n",
       "      <th>4 Bedroom '21</th>\n",
       "      <th>4 Bedroom '20</th>\n",
       "      <th>4 Bedroom '19</th>\n",
       "      <th>'21 diff %</th>\n",
       "      <th>'20 diff %</th>\n",
       "    </tr>\n",
       "  </thead>\n",
       "  <tbody>\n",
       "    <tr>\n",
       "      <th>0</th>\n",
       "      <td>AK</td>\n",
       "      <td>1937.86</td>\n",
       "      <td>2065.79</td>\n",
       "      <td>2005.48</td>\n",
       "      <td>-6.601612</td>\n",
       "      <td>2.919464</td>\n",
       "    </tr>\n",
       "    <tr>\n",
       "      <th>1</th>\n",
       "      <td>AL</td>\n",
       "      <td>1157.03</td>\n",
       "      <td>1121.51</td>\n",
       "      <td>1128.43</td>\n",
       "      <td>3.069929</td>\n",
       "      <td>-0.617025</td>\n",
       "    </tr>\n",
       "    <tr>\n",
       "      <th>2</th>\n",
       "      <td>AR</td>\n",
       "      <td>1104.27</td>\n",
       "      <td>1064.85</td>\n",
       "      <td>1086.59</td>\n",
       "      <td>3.569779</td>\n",
       "      <td>-2.041602</td>\n",
       "    </tr>\n",
       "    <tr>\n",
       "      <th>3</th>\n",
       "      <td>AS</td>\n",
       "      <td>1293.00</td>\n",
       "      <td>1236.00</td>\n",
       "      <td>1109.00</td>\n",
       "      <td>4.408353</td>\n",
       "      <td>10.275081</td>\n",
       "    </tr>\n",
       "    <tr>\n",
       "      <th>4</th>\n",
       "      <td>AZ</td>\n",
       "      <td>1596.93</td>\n",
       "      <td>1527.33</td>\n",
       "      <td>1467.07</td>\n",
       "      <td>4.358363</td>\n",
       "      <td>3.945447</td>\n",
       "    </tr>\n",
       "  </tbody>\n",
       "</table>\n",
       "</div>"
      ],
      "text/plain": [
       "  State  4 Bedroom '21  4 Bedroom '20  4 Bedroom '19  '21 diff %  '20 diff %\n",
       "0    AK        1937.86        2065.79        2005.48   -6.601612    2.919464\n",
       "1    AL        1157.03        1121.51        1128.43    3.069929   -0.617025\n",
       "2    AR        1104.27        1064.85        1086.59    3.569779   -2.041602\n",
       "3    AS        1293.00        1236.00        1109.00    4.408353   10.275081\n",
       "4    AZ        1596.93        1527.33        1467.07    4.358363    3.945447"
      ]
     },
     "execution_count": 21,
     "metadata": {},
     "output_type": "execute_result"
    }
   ],
   "source": [
    "b4DF.head()"
   ]
  },
  {
   "cell_type": "code",
   "execution_count": 22,
   "id": "5310a32e",
   "metadata": {
    "scrolled": true
   },
   "outputs": [
    {
     "data": {
      "image/png": "[encoded data removed]",
      "text/plain": [
       "<Figure size 1080x288 with 1 Axes>"
      ]
     },
     "metadata": {},
     "output_type": "display_data"
    }
   ],
   "source": [
    "# prepare chart\n",
    "states = b4DF[\"State\"]\n",
    "percentage = b4DF[\"'21 diff %\"]\n",
    "\n",
    "plt.figure(figsize=(15, 4))\n",
    "plt.xticks(rotation = 90)\n",
    "plt.bar(states, percentage)\n",
    "plt.title('4 Bedroom Apartment Rent Change % From 2020 to 2021 by State')\n",
    "plt.ylabel(\"Percentage Change\")\n",
    "plt.show()"
   ]
  },
  {
   "cell_type": "code",
   "execution_count": null,
   "id": "df982d86",
   "metadata": {},
   "outputs": [],
   "source": []
  }
 ],
 "metadata": {
  "kernelspec": {
   "display_name": "Python 3 (ipykernel)",
   "language": "python",
   "name": "python3"
  },
  "language_info": {
   "codemirror_mode": {
    "name": "ipython",
    "version": 3
   },
   "file_extension": ".py",
   "mimetype": "text/x-python",
   "name": "python",
   "nbconvert_exporter": "python",
   "pygments_lexer": "ipython3",
   "version": "3.9.12"
  }
 },
 "nbformat": 4,
 "nbformat_minor": 5
}
