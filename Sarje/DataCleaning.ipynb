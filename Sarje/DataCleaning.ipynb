{
 "cells": [
  {
   "cell_type": "markdown",
   "id": "2d84810b",
   "metadata": {},
   "source": [
    "## Data Cleaning"
   ]
  },
  {
   "cell_type": "code",
   "execution_count": 1,
   "id": "8afa6b85",
   "metadata": {},
   "outputs": [],
   "source": [
    "import pandas as pd\n",
    "from os.path import exists\n"
   ]
  },
  {
   "cell_type": "code",
   "execution_count": 2,
   "id": "577ddb3c",
   "metadata": {},
   "outputs": [],
   "source": [
    "# combine data sets if needed\n",
    "if exists('rent.csv') == True:\n",
    "    rent = pd.read_csv('rent.csv') \n",
    "else:\n",
    "    rent2018 = pd.read_excel (r'C:\\Users\\shpag\\Desktop\\GitHub Repositories\\project_1_materials\\50TH-Percentile-Rent-Estimates-Data\\2018\\FY2018_50_County_rev.xlsx') \n",
    "    rent2018 = rent2018.drop(columns=['fips2010', 'state', 'cbsasub18', 'areaname18', 'county', 'cousub', 'name', 'pop2010', 'hu2010'])\n",
    "    rent2018 = rent2018.rename(columns = {'cntyname': 'county name', 'state_alpha': 'state initials'})\n",
    "    rent2018 = rent2018.reindex(columns=[\"state initials\", \"county name\", \"rent50_0\", \"rent50_1\", \"rent50_2\",\"rent50_3\", \"rent50_4\"])\n",
    "    rent2018[\"year\"] = 2018\n",
    "    \n",
    "    rent2019 = pd.read_excel (r'C:\\Users\\shpag\\Desktop\\GitHub Repositories\\project_1_materials\\50TH-Percentile-Rent-Estimates-Data\\2019\\FY2019_50_County_rev.xlsx') \n",
    "    rent2019 = rent2019.drop(columns=['fips2010', 'state', 'cbsasub19', 'areaname19', 'county', 'cousub', 'name', 'pop2010', 'hu2010'])\n",
    "    rent2019 = rent2019.rename(columns = {'cntyname': 'county name', 'state_alpha': 'state initials'})\n",
    "    rent2019 = rent2019.reindex(columns=[\"state initials\", \"county name\", \"rent50_0\", \"rent50_1\", \"rent50_2\",\"rent50_3\", \"rent50_4\"])\n",
    "    rent2019[\"year\"] = 2019 \n",
    "    \n",
    "    rent2020 = pd.read_excel (r'C:\\Users\\shpag\\Desktop\\GitHub Repositories\\project_1_materials\\50TH-Percentile-Rent-Estimates-Data\\2020\\FY2020_50_County_rev.xlsx') \n",
    "    rent2020 = rent2020.drop(columns=['fips2010', 'state', 'cbsasub20', 'areaname20', 'county', 'cousub', 'name', 'pop2017', 'hu2017'])\n",
    "    rent2020 = rent2020.rename(columns = {'cntyname': 'county name', 'state_alpha': 'state initials'})\n",
    "    rent2020 = rent2020.reindex(columns=[\"state initials\", \"county name\", \"rent50_0\", \"rent50_1\", \"rent50_2\",\"rent50_3\", \"rent50_4\"])\n",
    "    rent2020[\"year\"] = 2020\n",
    "    \n",
    "    rent2021 = pd.read_excel (r'C:\\Users\\shpag\\Desktop\\GitHub Repositories\\project_1_materials\\50TH-Percentile-Rent-Estimates-Data\\2021\\FY2021_50_County.xlsx') \n",
    "    rent2021 = rent2021.drop(columns=['fips2010', 'state', 'cbsasub21', 'areaname21', 'county', 'cousub', 'name', 'pop2017', 'hu2017'])\n",
    "    rent2021 = rent2021.rename(columns = {'cntyname': 'county name', 'state_alpha': 'state initials'})\n",
    "    rent2021 = rent2021.reindex(columns=[\"state initials\", \"county name\", \"rent50_0\", \"rent50_1\", \"rent50_2\",\"rent50_3\", \"rent50_4\"])\n",
    "    rent2021[\"year\"] = 2021\n",
    "    \n",
    "    #rent = pd.concat([rent2018, rent2019, rent2020, rent2021])\n",
    "    rent = pd.concat([rent2021, rent2020, rent2019])\n",
    "    rent.to_csv('rent.csv', index=False)    "
   ]
  },
  {
   "cell_type": "code",
   "execution_count": null,
   "id": "0edd694f",
   "metadata": {},
   "outputs": [],
   "source": []
  }
 ],
 "metadata": {
  "kernelspec": {
   "display_name": "Python 3 (ipykernel)",
   "language": "python",
   "name": "python3"
  },
  "language_info": {
   "codemirror_mode": {
    "name": "ipython",
    "version": 3
   },
   "file_extension": ".py",
   "mimetype": "text/x-python",
   "name": "python",
   "nbconvert_exporter": "python",
   "pygments_lexer": "ipython3",
   "version": "3.9.12"
  }
 },
 "nbformat": 4,
 "nbformat_minor": 5
}
